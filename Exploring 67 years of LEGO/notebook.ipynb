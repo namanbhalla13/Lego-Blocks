{
 "cells": [
  {
   "cell_type": "markdown",
   "metadata": {
    "dc": {
     "key": "1d0b086e6c"
    },
    "deletable": false,
    "editable": false,
    "run_control": {
     "frozen": true
    },
    "tags": [
     "context"
    ]
   },
   "source": [
    "## 1. Introduction\n",
    "<p>Everyone loves Lego (unless you ever stepped on one). Did you know by the way that \"Lego\" was derived from the Danish phrase leg godt, which means \"play well\"? Unless you speak Danish, probably not. </p>\n",
    "<p>In this project, we will analyze a fascinating dataset on every single lego block that has ever been built!</p>\n",
    "<p><img src=\"https://s3.amazonaws.com/assets.datacamp.com/production/project_10/datasets/lego-bricks.jpeg\" alt=\"lego\"></p>"
   ]
  },
  {
   "cell_type": "code",
   "execution_count": 1,
   "metadata": {
    "dc": {
     "key": "1d0b086e6c"
    },
    "tags": [
     "sample_code"
    ]
   },
   "outputs": [],
   "source": [
    "# Nothing to do here"
   ]
  },
  {
   "cell_type": "markdown",
   "metadata": {
    "dc": {
     "key": "044b2cef41"
    },
    "deletable": false,
    "editable": false,
    "run_control": {
     "frozen": true
    },
    "tags": [
     "context"
    ]
   },
   "source": [
    "## 2. Reading Data\n",
    "<p>A comprehensive database of lego blocks is provided by <a href=\"https://rebrickable.com/downloads/\">Rebrickable</a>. The data is available as csv files and the schema is shown below.</p>\n",
    "<p><img src=\"https://s3.amazonaws.com/assets.datacamp.com/production/project_10/datasets/downloads_schema.png\" alt=\"schema\"></p>\n",
    "<p>Let us start by reading in the colors data to get a sense of the diversity of lego sets!</p>"
   ]
  },
  {
   "cell_type": "code",
   "execution_count": 2,
   "metadata": {
    "dc": {
     "key": "044b2cef41"
    },
    "scrolled": true,
    "tags": [
     "sample_code"
    ]
   },
   "outputs": [
    {
     "data": {
      "text/html": [
       "<div>\n",
       "<style scoped>\n",
       "    .dataframe tbody tr th:only-of-type {\n",
       "        vertical-align: middle;\n",
       "    }\n",
       "\n",
       "    .dataframe tbody tr th {\n",
       "        vertical-align: top;\n",
       "    }\n",
       "\n",
       "    .dataframe thead th {\n",
       "        text-align: right;\n",
       "    }\n",
       "</style>\n",
       "<table border=\"1\" class=\"dataframe\">\n",
       "  <thead>\n",
       "    <tr style=\"text-align: right;\">\n",
       "      <th></th>\n",
       "      <th>id</th>\n",
       "      <th>name</th>\n",
       "      <th>rgb</th>\n",
       "      <th>is_trans</th>\n",
       "    </tr>\n",
       "  </thead>\n",
       "  <tbody>\n",
       "    <tr>\n",
       "      <th>0</th>\n",
       "      <td>-1</td>\n",
       "      <td>Unknown</td>\n",
       "      <td>0033B2</td>\n",
       "      <td>f</td>\n",
       "    </tr>\n",
       "    <tr>\n",
       "      <th>1</th>\n",
       "      <td>0</td>\n",
       "      <td>Black</td>\n",
       "      <td>05131D</td>\n",
       "      <td>f</td>\n",
       "    </tr>\n",
       "    <tr>\n",
       "      <th>2</th>\n",
       "      <td>1</td>\n",
       "      <td>Blue</td>\n",
       "      <td>0055BF</td>\n",
       "      <td>f</td>\n",
       "    </tr>\n",
       "    <tr>\n",
       "      <th>3</th>\n",
       "      <td>2</td>\n",
       "      <td>Green</td>\n",
       "      <td>237841</td>\n",
       "      <td>f</td>\n",
       "    </tr>\n",
       "    <tr>\n",
       "      <th>4</th>\n",
       "      <td>3</td>\n",
       "      <td>Dark Turquoise</td>\n",
       "      <td>008F9B</td>\n",
       "      <td>f</td>\n",
       "    </tr>\n",
       "  </tbody>\n",
       "</table>\n",
       "</div>"
      ],
      "text/plain": [
       "   id            name     rgb is_trans\n",
       "0  -1         Unknown  0033B2        f\n",
       "1   0           Black  05131D        f\n",
       "2   1            Blue  0055BF        f\n",
       "3   2           Green  237841        f\n",
       "4   3  Dark Turquoise  008F9B        f"
      ]
     },
     "execution_count": 2,
     "metadata": {},
     "output_type": "execute_result"
    }
   ],
   "source": [
    "# Import modules\n",
    "import matplotlib.pyplot as plt\n",
    "import pandas as pd\n",
    "\n",
    "# Read colors data\n",
    "colors = pd.read_csv('datasets/colors.csv')\n",
    "\n",
    "# Print the first few rows\n",
    "colors.head()\n"
   ]
  },
  {
   "cell_type": "markdown",
   "metadata": {
    "dc": {
     "key": "15c1e2ce38"
    },
    "deletable": false,
    "editable": false,
    "run_control": {
     "frozen": true
    },
    "tags": [
     "context"
    ]
   },
   "source": [
    "## 3. Exploring Colors\n",
    "<p>Now that we have read the <code>colors</code> data, we can start exploring it! Let us start by understanding the number of colors available.</p>"
   ]
  },
  {
   "cell_type": "code",
   "execution_count": 3,
   "metadata": {
    "dc": {
     "key": "15c1e2ce38"
    },
    "tags": [
     "sample_code"
    ]
   },
   "outputs": [],
   "source": [
    "# How many distinct colors are available?\n",
    "num_colors=colors.shape[0]\n",
    "#print(num_colors)"
   ]
  },
  {
   "cell_type": "markdown",
   "metadata": {
    "dc": {
     "key": "a5723ae5c2"
    },
    "deletable": false,
    "editable": false,
    "run_control": {
     "frozen": true
    },
    "tags": [
     "context"
    ]
   },
   "source": [
    "## 4. Transparent Colors in Lego Sets\n",
    "<p>The <code>colors</code> data has a column named <code>is_trans</code> that indicates whether a color is transparent or not. It would be interesting to explore the distribution of transparent vs. non-transparent colors.</p>"
   ]
  },
  {
   "cell_type": "code",
   "execution_count": 4,
   "metadata": {
    "dc": {
     "key": "a5723ae5c2"
    },
    "tags": [
     "sample_code"
    ]
   },
   "outputs": [
    {
     "name": "stdout",
     "output_type": "stream",
     "text": [
      "           id  name  rgb\n",
      "is_trans                \n",
      "f         107   107  107\n",
      "t          28    28   28\n"
     ]
    }
   ],
   "source": [
    "# colors_summary: Distribution of colors based on transparency\n",
    "#print(colors)\n",
    "colors_summary=colors.groupby('is_trans').count()\n",
    "print(colors_summary)\n"
   ]
  },
  {
   "cell_type": "markdown",
   "metadata": {
    "dc": {
     "key": "c9d0e58653"
    },
    "deletable": false,
    "editable": false,
    "run_control": {
     "frozen": true
    },
    "tags": [
     "context"
    ]
   },
   "source": [
    "## 5. Explore Lego Sets\n",
    "<p>Another interesting dataset available in this database is the <code>sets</code> data. It contains a comprehensive list of sets over the years and the number of parts that each of these sets contained. </p>\n",
    "<p><img src=\"https://imgur.com/1k4PoXs.png\" alt=\"sets_data\"></p>\n",
    "<p>Let us use this data to explore how the average number of parts in Lego sets has varied over the years.</p>"
   ]
  },
  {
   "cell_type": "code",
   "execution_count": 20,
   "metadata": {
    "dc": {
     "key": "c9d0e58653"
    },
    "tags": [
     "sample_code"
    ]
   },
   "outputs": [
    {
     "name": "stdout",
     "output_type": "stream",
     "text": [
      "    year  num_parts\n",
      "0   1970      84.79\n",
      "1   1978     146.62\n",
      "2   1987      70.00\n",
      "3   1979     105.41\n",
      "4   1976     153.03\n",
      "5   1965     107.10\n",
      "6   1985     122.06\n",
      "7   1968     127.20\n",
      "8   1999     105.54\n",
      "9   1967      98.67\n",
      "10  1969      64.59\n",
      "11  2001     104.37\n",
      "12  1966      40.65\n",
      "13  2003     159.68\n",
      "14  2002     115.70\n",
      "15  2004     138.86\n",
      "16  2006     246.90\n",
      "17  2005     198.75\n",
      "18  2010     210.65\n",
      "19  2007     229.03\n",
      "20  2008     231.64\n",
      "21  2009     196.90\n",
      "22  2011     160.45\n",
      "23  2012     149.81\n",
      "24  2013     181.36\n",
      "25  2014     169.32\n",
      "26  2015     200.22\n",
      "27  2016     248.95\n",
      "28  2017     300.12\n",
      "29  1977      91.50\n",
      "..   ...        ...\n",
      "36  1980     126.64\n",
      "37  1982      69.38\n",
      "38  1988     144.25\n",
      "39  1997     129.22\n",
      "40  1998     141.13\n",
      "41  1971      67.02\n",
      "42  1955      36.86\n",
      "43  1956      18.50\n",
      "44  1957      42.62\n",
      "45  1958      44.45\n",
      "46  1974     116.77\n",
      "47  1972     102.84\n",
      "48  1975     155.23\n",
      "49  1992     119.62\n",
      "50  1991     166.42\n",
      "51  1989     102.06\n",
      "52  1990     202.04\n",
      "53  1993     148.43\n",
      "54  1994     127.64\n",
      "55  1996     201.77\n",
      "56  1995     179.04\n",
      "57  1959      16.25\n",
      "58  1962      81.75\n",
      "59  1961      70.59\n",
      "60  1960     175.33\n",
      "61  1963      33.33\n",
      "62  1964      82.64\n",
      "63  1950      10.14\n",
      "64  1953      16.50\n",
      "65  1954      12.36\n",
      "\n",
      "[66 rows x 2 columns]\n"
     ]
    },
    {
     "data": {
      "image/png": "[encoded data removed]",
      "text/plain": [
       "<Figure size 432x288 with 1 Axes>"
      ]
     },
     "metadata": {
      "needs_background": "light"
     },
     "output_type": "display_data"
    }
   ],
   "source": [
    "%matplotlib inline\n",
    "# Read sets data as `sets`\n",
    "sets=pd.read_csv(\"datasets/sets.csv\")\n",
    "# Create a summary of average number of parts by year: `parts_by_year`\n",
    "Parts_by_year = sets[['year', 'num_parts']]\n",
    "def calculation_item(filter):\n",
    "    my_data={}\n",
    "    for key , value in filter.iterrows():\n",
    "        if value[0] in my_data.keys():\n",
    "            my_data[value[0]]+=value[1]\n",
    "        else:\n",
    "            my_data[value[0]]=value[1]\n",
    "    #print(my_plot_data)\n",
    "    return my_data\n",
    "def calculation_number(filter):\n",
    "    my_data={}\n",
    "    for key , value in filter.iterrows():\n",
    "        if value[0] in my_data.keys():\n",
    "            my_data[value[0]]+=1\n",
    "        else:\n",
    "            my_data[value[0]]=1\n",
    "    return my_data\n",
    "my_plot_data=calculation_item(Parts_by_year)\n",
    "my_plot_number=calculation_number(Parts_by_year)\n",
    "def make_as_a_dataframe(data,number):\n",
    "    year_list_inside=[]\n",
    "    ave_num_inside=[]\n",
    "    for year in number.keys():\n",
    "        year_list_inside.append(year)\n",
    "        ave_num_inside.append(round(data[year]/number[year],2))\n",
    "\n",
    "    new_dict={\n",
    "        \"year\":year_list_inside,\n",
    "        \"num_parts\":ave_num_inside\n",
    "        }\n",
    "    return pd.DataFrame(new_dict)\n",
    "parts_by_year=make_as_a_dataframe(my_plot_data,my_plot_number)\n",
    "print(parts_by_year)\n",
    "plt.scatter(x=parts_by_year[['year']],y=parts_by_year[['num_parts']])\n",
    "plt.show()"
   ]
  },
  {
   "cell_type": "markdown",
   "metadata": {
    "dc": {
     "key": "266a3f390c"
    },
    "deletable": false,
    "editable": false,
    "run_control": {
     "frozen": true
    },
    "tags": [
     "context"
    ]
   },
   "source": [
    "## 6. Lego Themes Over Years\n",
    "<p>Lego blocks ship under multiple <a href=\"https://shop.lego.com/en-US/Themes\">themes</a>. Let us try to get a sense of how the number of themes shipped has varied over the years.</p>"
   ]
  },
  {
   "cell_type": "code",
   "execution_count": 6,
   "metadata": {
    "dc": {
     "key": "266a3f390c"
    },
    "tags": [
     "sample_code"
    ]
   },
   "outputs": [
    {
     "name": "stdout",
     "output_type": "stream",
     "text": [
      "   year  theme_id\n",
      "0  1970        29\n",
      "1  1978        73\n",
      "2  1987       209\n",
      "3  1979        82\n",
      "4  1976        68\n"
     ]
    }
   ],
   "source": [
    "# themes_by_year: Number of themes shipped by year\n",
    "themes_by=sets[['year','theme_id']]\n",
    "#print(themes_by_year)\n",
    "number_theme=calculation_number(themes_by)\n",
    "#print(number_theme)\n",
    "year=[]\n",
    "theme=[]\n",
    "for key in number_theme.keys():\n",
    "    year.append(key)\n",
    "    theme.append(number_theme[key])\n",
    "new_dict_2={\n",
    "    \"year\":year,\n",
    "    \"theme_id\":theme\n",
    "}\n",
    "themes_by_year=pd.DataFrame(new_dict_2)\n",
    "print(themes_by_year.head())"
   ]
  },
  {
   "cell_type": "markdown",
   "metadata": {
    "dc": {
     "key": "a293e5076e"
    },
    "deletable": false,
    "editable": false,
    "run_control": {
     "frozen": true
    },
    "tags": [
     "context"
    ]
   },
   "source": [
    "## 7. Wrapping It All Up!\n",
    "<p>Lego blocks offer an unlimited amount of fun across ages. We explored some interesting trends around colors, parts, and themes. </p>"
   ]
  },
  {
   "cell_type": "code",
   "execution_count": 7,
   "metadata": {
    "dc": {
     "key": "a293e5076e"
    },
    "tags": [
     "sample_code"
    ]
   },
   "outputs": [],
   "source": [
    "# Nothing to do here"
   ]
  }
 ],
 "metadata": {
  "kernelspec": {
   "display_name": "Python 3",
   "language": "python",
   "name": "python3"
  },
  "language_info": {
   "codemirror_mode": {
    "name": "ipython",
    "version": 3
   },
   "file_extension": ".py",
   "mimetype": "text/x-python",
   "name": "python",
   "nbconvert_exporter": "python",
   "pygments_lexer": "ipython3",
   "version": "3.7.1"
  }
 },
 "nbformat": 4,
 "nbformat_minor": 2
}
